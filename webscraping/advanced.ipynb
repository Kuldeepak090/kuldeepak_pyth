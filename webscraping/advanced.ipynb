{
 "cells": [
  {
   "cell_type": "code",
   "execution_count": 16,
   "metadata": {},
   "outputs": [],
   "source": [
    "from selenium import webdriver\n",
    "from selenium.webdriver.common.by import By\n",
    "from webdriver_manager.chrome import ChromeDriverManager\n",
    "from webdriver_manager.firefox import GeckoDriverManager\n",
    "from webdriver_manager.microsoft import EdgeChromiumDriverManager"
   ]
  },
  {
   "cell_type": "code",
   "execution_count": 17,
   "metadata": {},
   "outputs": [
    {
     "name": "stderr",
     "output_type": "stream",
     "text": [
      "\n",
      "\n",
      "====== WebDriver manager ======\n",
      "Current google-chrome version is 98.0.4758\n",
      "Get LATEST chromedriver version for 98.0.4758 google-chrome\n",
      "Driver [C:\\Users\\KULDEEPAK\\.wdm\\drivers\\chromedriver\\win32\\98.0.4758.80\\chromedriver.exe] found in cache\n",
      "C:\\Users\\KULDEE~1\\AppData\\Local\\Temp/ipykernel_5844/3409710932.py:1: DeprecationWarning: executable_path has been deprecated, please pass in a Service object\n",
      "  driver = webdriver.Chrome(ChromeDriverManager().install())\n"
     ]
    }
   ],
   "source": [
    "driver = webdriver.Chrome(ChromeDriverManager().install()) "
   ]
  },
  {
   "cell_type": "code",
   "execution_count": 18,
   "metadata": {},
   "outputs": [],
   "source": [
    "webpage =\"https://www.amazon.in/dp/B08VB57558?ref_=Oct_DLandingS_D_0cbd775c_NA\"\n",
    "driver.get(webpage)"
   ]
  },
  {
   "cell_type": "code",
   "execution_count": 19,
   "metadata": {},
   "outputs": [],
   "source": [
    "link_obj = driver.find_element(By.CSS_SELECTOR,'.a-link-emphasis')\n",
    "link = link_obj.get_attribute('href')\n",
    "driver.get(link)"
   ]
  },
  {
   "cell_type": "code",
   "execution_count": 20,
   "metadata": {},
   "outputs": [],
   "source": [
    "review_area = driver.find_element(By.CSS_SELECTOR,'#cm_cr-review_list')"
   ]
  },
  {
   "cell_type": "code",
   "execution_count": 21,
   "metadata": {},
   "outputs": [],
   "source": [
    "review_list = review_area.find_elements(By.CSS_SELECTOR,'.review')"
   ]
  },
  {
   "cell_type": "code",
   "execution_count": 22,
   "metadata": {},
   "outputs": [
    {
     "name": "stdout",
     "output_type": "stream",
     "text": [
      "Saksham 937 words of review\n",
      "Aror Tech 252 words of review\n",
      "Subashg07 144 words of review\n",
      "Swarnendu Chaudhuri 199 words of review\n",
      "NS 622 words of review\n",
      "well wisher 72 words of review\n",
      "sandhya gupta 36 words of review\n",
      "Yash Patel 492 words of review\n",
      "Kumar Mangal Singh 69 words of review\n",
      "yash khade 26 words of review\n"
     ]
    }
   ],
   "source": [
    "for review in review_list:\n",
    "    user = review.find_element(By.CSS_SELECTOR, 'span.a-profile-name')\n",
    "    content = review.find_element(By.CSS_SELECTOR,'span.review-text')\n",
    "    print(user.text,len(content.text.split()),'words of review')"
   ]
  },
  {
   "cell_type": "code",
   "execution_count": 23,
   "metadata": {},
   "outputs": [],
   "source": [
    "nxt_pg_link = driver.find_element(By.CSS_SELECTOR, 'li.a-last > a').get_attribute('href')\n",
    "driver.get(nxt_pg_link)"
   ]
  },
  {
   "cell_type": "markdown",
   "metadata": {},
   "source": [
    "PUTTING all together"
   ]
  },
  {
   "cell_type": "code",
   "execution_count": 24,
   "metadata": {},
   "outputs": [],
   "source": [
    "def launch(url):\n",
    "    driver = webdriver.Chrome(ChromeDriverManager().install())\n",
    "    webpage = url\n",
    "    driver.get(webpage)\n",
    "    link_obj = driver.find_element(By.CSS_SELECTOR,'.a-link-emphasis')\n",
    "    link = link_obj.get_attribute('href')\n",
    "    driver.get(link) # load the product review"
   ]
  },
  {
   "cell_type": "code",
   "execution_count": 25,
   "metadata": {},
   "outputs": [],
   "source": [
    "def launch(url):\n",
    "    driver = webdriver.Chrome(ChromeDriverManager().install())\n",
    "    webpage = url\n",
    "    driver.get(webpage)\n",
    "    link_obj = driver.find_element(By.CSS_SELECTOR,'.a-link-emphasis')\n",
    "    link = link_obj.get_attribute('href')\n",
    "    driver.get(link) # load the product review\n",
    "    return driver\n",
    "def extract(start_point):\n",
    "    driver = start_point\n",
    "    nxt_pg_link = None\n",
    "    while True:\n",
    "        if nxt_pg_link:\n",
    "            print(\"going to\")\n",
    "            print(nxt_pg_link)\n",
    "            driver.get(nxt_pg_link)\n",
    "        review_area = driver.find_element(By.CSS_SELECTOR,'#cm_cr-review_list')\n",
    "        review_list = review_area.find_elements(By.CSS_SELECTOR,'.review')\n",
    "        if not review_list:\n",
    "            break\n",
    "        for review in review_list:\n",
    "            user = review.find_element(By.CSS_SELECTOR, 'span.a-profile-name')\n",
    "            content = review.find_element(By.CSS_SELECTOR,'span.review-text')\n",
    "            # database saving logic implement\n",
    "            print(user.text,len(content.text.split()),'words of review')\n",
    "        try:\n",
    "            nxt_pg_link = driver.find_element(By.CSS_SELECTOR, 'li.a-last > a').get_attribute('href')\n",
    "        except:\n",
    "            print(\"no next page available\")\n",
    "            break"
   ]
  },
  {
   "cell_type": "code",
   "execution_count": 27,
   "metadata": {},
   "outputs": [
    {
     "name": "stderr",
     "output_type": "stream",
     "text": [
      "\n",
      "\n",
      "====== WebDriver manager ======\n",
      "Current google-chrome version is 98.0.4758\n",
      "Get LATEST chromedriver version for 98.0.4758 google-chrome\n",
      "Driver [C:\\Users\\KULDEEPAK\\.wdm\\drivers\\chromedriver\\win32\\98.0.4758.80\\chromedriver.exe] found in cache\n",
      "C:\\Users\\KULDEE~1\\AppData\\Local\\Temp/ipykernel_5844/3499258160.py:2: DeprecationWarning: executable_path has been deprecated, please pass in a Service object\n",
      "  driver = webdriver.Chrome(ChromeDriverManager().install())\n"
     ]
    },
    {
     "name": "stdout",
     "output_type": "stream",
     "text": [
      "Kantilal Paliwal 30 words of review\n",
      "Amber 42 words of review\n",
      "Rubal 21 words of review\n",
      "Lance D'souza 26 words of review\n",
      "Shubham 8 words of review\n",
      "Ramdayal Gupta 25 words of review\n",
      "no next page available\n"
     ]
    }
   ],
   "source": [
    "driver = launch(\"https://www.amazon.in/UBON-Headphones-Lightweight-Tangle-Free-Pink/dp/B09QPPJBSG/ref=sr_1_5?qid=1644756392&refinements=p_72%3A1318479031&rnid=1318475031&s=electronics&sr=1-5&th=1\")\n",
    "extract(driver)\n",
    "driver.close()"
   ]
  },
  {
   "cell_type": "code",
   "execution_count": null,
   "metadata": {},
   "outputs": [],
   "source": [
    "import pandas as pd\n"
   ]
  },
  {
   "cell_type": "code",
   "execution_count": null,
   "metadata": {},
   "outputs": [],
   "source": []
  }
 ],
 "metadata": {
  "interpreter": {
   "hash": "10b35615fda2620ac90103463a2ff4f7a4c393ab0c46b4cd693939ce545bd675"
  },
  "kernelspec": {
   "display_name": "Python 3.9.7 64-bit",
   "language": "python",
   "name": "python3"
  },
  "language_info": {
   "codemirror_mode": {
    "name": "ipython",
    "version": 3
   },
   "file_extension": ".py",
   "mimetype": "text/x-python",
   "name": "python",
   "nbconvert_exporter": "python",
   "pygments_lexer": "ipython3",
   "version": "3.9.7"
  },
  "orig_nbformat": 4
 },
 "nbformat": 4,
 "nbformat_minor": 2
}
