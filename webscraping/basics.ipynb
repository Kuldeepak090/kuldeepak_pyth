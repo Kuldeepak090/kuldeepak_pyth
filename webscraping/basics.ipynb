{
 "cells": [
  {
   "cell_type": "code",
   "execution_count": 18,
   "metadata": {},
   "outputs": [],
   "source": [
    "import requests\n",
    "from bs4  import BeautifulSoup"
   ]
  },
  {
   "cell_type": "code",
   "execution_count": 19,
   "metadata": {},
   "outputs": [],
   "source": [
    "# pip install BeautifulSoup4\n",
    "# pip install requests"
   ]
  },
  {
   "cell_type": "code",
   "execution_count": 20,
   "metadata": {},
   "outputs": [],
   "source": [
    "top_box_office_data_link = 'https://www.imdb.com/chart/boxoffice/?ref_=nv_ch_cht'"
   ]
  },
  {
   "cell_type": "code",
   "execution_count": 21,
   "metadata": {},
   "outputs": [
    {
     "name": "stdout",
     "output_type": "stream",
     "text": [
      "200\n"
     ]
    }
   ],
   "source": [
    "page= requests.get(top_box_office_data_link)\n",
    "print(page.status_code)"
   ]
  },
  {
   "cell_type": "code",
   "execution_count": 22,
   "metadata": {},
   "outputs": [],
   "source": [
    "soup = BeautifulSoup(page.text,\"lxml\")"
   ]
  },
  {
   "cell_type": "code",
   "execution_count": 23,
   "metadata": {},
   "outputs": [
    {
     "data": {
      "text/plain": [
       "<h1 class=\"header\">Top Box Office (US)</h1>"
      ]
     },
     "execution_count": 23,
     "metadata": {},
     "output_type": "execute_result"
    }
   ],
   "source": [
    "soup.h1"
   ]
  },
  {
   "cell_type": "code",
   "execution_count": 24,
   "metadata": {},
   "outputs": [],
   "source": [
    "section = soup.find('div',{'class':'article'})"
   ]
  },
  {
   "cell_type": "code",
   "execution_count": 25,
   "metadata": {},
   "outputs": [
    {
     "data": {
      "text/plain": [
       "<div class=\"article\">\n",
       "<script type=\"text/javascript\">if(typeof uet === 'function'){uet('bb','BoxOfficeChartWidget',{wb:1});}</script>\n",
       "<span class=\"ab_widget\">\n",
       "<h1 class=\"header\">Top Box Office (US)</h1>\n",
       "<div class=\"article listo\" id=\"boxoffice\">\n",
       "<div class=\"chart-social-sharing-widget\" id=\"social-sharing-widget\"></div>\n",
       "<h4>Weekend of February 4 - 6, 2022</h4>\n",
       "<br/>\n",
       "<table class=\"chart full-width\" data-caller-name=\"chart-boxoffice\">\n",
       "<colgroup>\n",
       "<col class=\"chartTableColumnPoster\"/>\n",
       "<col class=\"chartTableColumnTitle\"/>\n",
       "<col class=\"chartTableGross\"/>\n",
       "<col class=\"chartTableGross\"/>\n",
       "<col class=\"chartTableWeeks\"/>\n",
       "<col class=\"chartTableColumnWatchlistRibbon\"/>\n",
       "</colgroup>\n",
       "<thead>\n",
       "<tr>\n",
       "<th></th>\n",
       "<th>Title</th>\n",
       "<th>Weekend</th>\n",
       "<th>Gross</th>\n",
       "<th>Weeks</th>\n",
       "<th></th>\n",
       "</tr>\n",
       "</thead>\n",
       "<tbody>\n",
       "<tr>\n",
       "<td class=\"posterColumn\">\n",
       "<a href=\"/title/tt11466222\"> <img alt=\"Jackass Forever\" height=\"67\" src=\"https://m.media-amazon.com/images/M/MV5BMjY3OTBlODktYzliNS00Y2VkLWJhZjktZDcwY2E2YzhmOThhXkEyXkFqcGdeQXVyOTg4MDMxODM@._V1_UY67_CR4,0,45,67_AL_.jpg\" width=\"45\"/>\n",
       "</a> </td><td class=\"titleColumn\">\n",
       "<a href=\"/title/tt11466222\" title=\"Jeff Tremaine (dir.), Johnny Knoxville, Steve-O\">Jackass Forever</a>\n",
       "</td>\n",
       "<td class=\"ratingColumn\">\n",
       "                            $23.2M\n",
       "                    </td>\n",
       "<td class=\"ratingColumn\">\n",
       "<span class=\"secondaryInfo\">$23.2M</span>\n",
       "</td>\n",
       "<td class=\"weeksColumn\">1</td>\n",
       "<td class=\"watchlistColumn\"><div class=\"wlb_ribbon\" data-tconst=\"tt11466222\"></div></td>\n",
       "</tr>\n",
       "<tr>\n",
       "<td class=\"posterColumn\">\n",
       "<a href=\"/title/tt5834426\"> <img alt=\"Moonfall\" height=\"67\" src=\"https://m.media-amazon.com/images/M/MV5BZjk0OWZiN2ItNmQ2YS00NTJmLTg0MjItNzM4NzBkMWM1ZTRlXkEyXkFqcGdeQXVyMjMxOTE0ODA@._V1_UY67_CR1,0,45,67_AL_.jpg\" width=\"45\"/>\n",
       "</a> </td><td class=\"titleColumn\">\n",
       "<a href=\"/title/tt5834426\" title=\"Roland Emmerich (dir.), Halle Berry, Patrick Wilson\">Moonfall</a>\n",
       "</td>\n",
       "<td class=\"ratingColumn\">\n",
       "                            $9.9M\n",
       "                    </td>\n",
       "<td class=\"ratingColumn\">\n",
       "<span class=\"secondaryInfo\">$9.9M</span>\n",
       "</td>\n",
       "<td class=\"weeksColumn\">1</td>\n",
       "<td class=\"watchlistColumn\"><div class=\"wlb_ribbon\" data-tconst=\"tt5834426\"></div></td>\n",
       "</tr>\n",
       "<tr>\n",
       "<td class=\"posterColumn\">\n",
       "<a href=\"/title/tt10872600\"> <img alt=\"Spider-Man: No Way Home\" height=\"67\" src=\"https://m.media-amazon.com/images/M/MV5BZWMyYzFjYTYtNTRjYi00OGExLWE2YzgtOGRmYjAxZTU3NzBiXkEyXkFqcGdeQXVyMzQ0MzA0NTM@._V1_UY67_CR0,0,45,67_AL_.jpg\" width=\"45\"/>\n",
       "</a> </td><td class=\"titleColumn\">\n",
       "<a href=\"/title/tt10872600\" title=\"Jon Watts (dir.), Tom Holland, Zendaya\">Spider-Man: No Way Home</a>\n",
       "</td>\n",
       "<td class=\"ratingColumn\">\n",
       "                            $9.5M\n",
       "                    </td>\n",
       "<td class=\"ratingColumn\">\n",
       "<span class=\"secondaryInfo\">$748.9M</span>\n",
       "</td>\n",
       "<td class=\"weeksColumn\">8</td>\n",
       "<td class=\"watchlistColumn\"><div class=\"wlb_ribbon\" data-tconst=\"tt10872600\"></div></td>\n",
       "</tr>\n",
       "<tr>\n",
       "<td class=\"posterColumn\">\n",
       "<a href=\"/title/tt11245972\"> <img alt=\"Scream\" height=\"67\" src=\"https://m.media-amazon.com/images/M/MV5BM2E4ZGFmZTgtMDVkYS00ZTk0LWIzYWMtODk5OGVmYmEyMzEzXkEyXkFqcGdeQXVyODk4OTc3MTY@._V1_UX45_CR0,0,45,67_AL_.jpg\" width=\"45\"/>\n",
       "</a> </td><td class=\"titleColumn\">\n",
       "<a href=\"/title/tt11245972\" title=\"Matt Bettinelli-Olpin (dir.), Neve Campbell, Courteney Cox\">Scream</a>\n",
       "</td>\n",
       "<td class=\"ratingColumn\">\n",
       "                            $4.8M\n",
       "                    </td>\n",
       "<td class=\"ratingColumn\">\n",
       "<span class=\"secondaryInfo\">$69.0M</span>\n",
       "</td>\n",
       "<td class=\"weeksColumn\">4</td>\n",
       "<td class=\"watchlistColumn\"><div class=\"wlb_ribbon\" data-tconst=\"tt11245972\"></div></td>\n",
       "</tr>\n",
       "<tr>\n",
       "<td class=\"posterColumn\">\n",
       "<a href=\"/title/tt6467266\"> <img alt=\"Sing 2\" height=\"67\" src=\"https://m.media-amazon.com/images/M/MV5BMWRiZGQ1NDMtODQ2OS00MDlhLWJkZGYtM2ZmNjlhZThjOWRmXkEyXkFqcGdeQXVyMTkxNjUyNQ@@._V1_UX45_CR0,0,45,67_AL_.jpg\" width=\"45\"/>\n",
       "</a> </td><td class=\"titleColumn\">\n",
       "<a href=\"/title/tt6467266\" title=\"Garth Jennings (dir.), Matthew McConaughey, Reese Witherspoon\">Sing 2</a>\n",
       "</td>\n",
       "<td class=\"ratingColumn\">\n",
       "                            $4.2M\n",
       "                    </td>\n",
       "<td class=\"ratingColumn\">\n",
       "<span class=\"secondaryInfo\">$139.6M</span>\n",
       "</td>\n",
       "<td class=\"weeksColumn\">7</td>\n",
       "<td class=\"watchlistColumn\"><div class=\"wlb_ribbon\" data-tconst=\"tt6467266\"></div></td>\n",
       "</tr>\n",
       "<tr>\n",
       "<td class=\"posterColumn\">\n",
       "<a href=\"/title/tt6856242\"> <img alt=\"The King's Man\" height=\"67\" src=\"https://m.media-amazon.com/images/M/MV5BMDEzZDY2ZDktNTlmOS00NThjLThkNTEtMjE5MzI5NWEwZmRjXkEyXkFqcGdeQXVyMDA4NzMyOA@@._V1_UY67_CR0,0,45,67_AL_.jpg\" width=\"45\"/>\n",
       "</a> </td><td class=\"titleColumn\">\n",
       "<a href=\"/title/tt6856242\" title=\"Matthew Vaughn (dir.), Ralph Fiennes, Gemma Arterton\">The King's Man</a>\n",
       "</td>\n",
       "<td class=\"ratingColumn\">\n",
       "                            $1.2M\n",
       "                    </td>\n",
       "<td class=\"ratingColumn\">\n",
       "<span class=\"secondaryInfo\">$35.8M</span>\n",
       "</td>\n",
       "<td class=\"weeksColumn\">7</td>\n",
       "<td class=\"watchlistColumn\"><div class=\"wlb_ribbon\" data-tconst=\"tt6856242\"></div></td>\n",
       "</tr>\n",
       "<tr>\n",
       "<td class=\"posterColumn\">\n",
       "<a href=\"/title/tt11365186\"> <img alt=\"Redeeming Love\" height=\"67\" src=\"https://m.media-amazon.com/images/M/MV5BMTMxMmRmMWUtNGNhZS00MWYxLTkwNzUtM2QwNzI4MGU1ZTI2XkEyXkFqcGdeQXVyNTQ3MjE4NTU@._V1_UY67_CR0,0,45,67_AL_.jpg\" width=\"45\"/>\n",
       "</a> </td><td class=\"titleColumn\">\n",
       "<a href=\"/title/tt11365186\" title=\"D.J. Caruso (dir.), Abigail Cowen, Tom Lewis\">Redeeming Love</a>\n",
       "</td>\n",
       "<td class=\"ratingColumn\">\n",
       "                            $1.0M\n",
       "                    </td>\n",
       "<td class=\"ratingColumn\">\n",
       "<span class=\"secondaryInfo\">$8.1M</span>\n",
       "</td>\n",
       "<td class=\"weeksColumn\">3</td>\n",
       "<td class=\"watchlistColumn\"><div class=\"wlb_ribbon\" data-tconst=\"tt11365186\"></div></td>\n",
       "</tr>\n",
       "<tr>\n",
       "<td class=\"posterColumn\">\n",
       "<a href=\"/title/tt11729298\"> <img alt=\"American Underdog\" height=\"67\" src=\"https://m.media-amazon.com/images/M/MV5BNWE4ODBjNDItYTE1MC00ODg1LTg5MzUtZDRkY2ZiZjQyYTgzXkEyXkFqcGdeQXVyMjMxOTE0ODA@._V1_UX45_CR0,0,45,67_AL_.jpg\" width=\"45\"/>\n",
       "</a> </td><td class=\"titleColumn\">\n",
       "<a href=\"/title/tt11729298\" title=\"Andrew Erwin (dir.), Zachary Levi, Anna Paquin\">American Underdog</a>\n",
       "</td>\n",
       "<td class=\"ratingColumn\">\n",
       "                            $781K\n",
       "                    </td>\n",
       "<td class=\"ratingColumn\">\n",
       "<span class=\"secondaryInfo\">$25.9M</span>\n",
       "</td>\n",
       "<td class=\"weeksColumn\">7</td>\n",
       "<td class=\"watchlistColumn\"><div class=\"wlb_ribbon\" data-tconst=\"tt11729298\"></div></td>\n",
       "</tr>\n",
       "<tr>\n",
       "<td class=\"posterColumn\">\n",
       "<a href=\"/title/tt8356942\"> <img alt=\"The 355\" height=\"67\" src=\"https://m.media-amazon.com/images/M/MV5BNzk4MDZhNTctMDA3OC00ODdkLWIyOWYtN2M0MzA3MDY5NDk1XkEyXkFqcGdeQXVyMTkxNjUyNQ@@._V1_UX45_CR0,0,45,67_AL_.jpg\" width=\"45\"/>\n",
       "</a> </td><td class=\"titleColumn\">\n",
       "<a href=\"/title/tt8356942\" title=\"Simon Kinberg (dir.), Jessica Chastain, Penélope Cruz\">The 355</a>\n",
       "</td>\n",
       "<td class=\"ratingColumn\">\n",
       "                            $698K\n",
       "                    </td>\n",
       "<td class=\"ratingColumn\">\n",
       "<span class=\"secondaryInfo\">$14.2M</span>\n",
       "</td>\n",
       "<td class=\"weeksColumn\">5</td>\n",
       "<td class=\"watchlistColumn\"><div class=\"wlb_ribbon\" data-tconst=\"tt8356942\"></div></td>\n",
       "</tr>\n",
       "<tr>\n",
       "<td class=\"posterColumn\">\n",
       "<a href=\"/title/tt11271038\"> <img alt=\"Licorice Pizza\" height=\"67\" src=\"https://m.media-amazon.com/images/M/MV5BZTgxMWJkMzItMzg1YS00NDJiLTljYjctMTc2YzQzZDZjZDAyXkEyXkFqcGdeQXVyODQ2OTIzNDU@._V1_UX45_CR0,0,45,67_AL_.jpg\" width=\"45\"/>\n",
       "</a> </td><td class=\"titleColumn\">\n",
       "<a href=\"/title/tt11271038\" title=\"Paul Thomas Anderson (dir.), Alana Haim, Cooper Hoffman\">Licorice Pizza</a>\n",
       "</td>\n",
       "<td class=\"ratingColumn\">\n",
       "                            $645K\n",
       "                    </td>\n",
       "<td class=\"ratingColumn\">\n",
       "<span class=\"secondaryInfo\">$12.7M</span>\n",
       "</td>\n",
       "<td class=\"weeksColumn\">11</td>\n",
       "<td class=\"watchlistColumn\"><div class=\"wlb_ribbon\" data-tconst=\"tt11271038\"></div></td>\n",
       "</tr>\n",
       "</tbody>\n",
       "</table>\n",
       "<div class=\"reported text-smaller\">\n",
       "            Reported by\n",
       "    <a class=\"tracked-offsite-link\" data-page-action=\"offsite-boxofficemojo\" data-page-const=\"\" data-page-type=\"chart\" data-ref=\"cht_bo_mj\" data-subpage-type=\"main\" href=\"https://www.boxofficemojo.com\" onclick=\"window.imdb.trackOffsiteLink(this)\" rel=\"\" target=\"_blank\">\n",
       "                Box Office Mojo\n",
       "    </a>\n",
       "            © 2022\n",
       "        </div>\n",
       "<hr/>\n",
       "<a class=\"tracked-offsite-link\" data-page-action=\"offsite-boxofficemojo\" data-page-const=\"\" data-page-type=\"chart\" data-ref=\"cht_bo_mj\" data-subpage-type=\"main\" href=\"https://www.boxofficemojo.com/daily/chart/\" onclick=\"window.imdb.trackOffsiteLink(this)\" rel=\"\" target=\"_blank\">\n",
       "            See more box office results at BoxOfficeMojo.com\n",
       "    </a>\n",
       "         »\n",
       "    </div>\n",
       "</span>\n",
       "<script type=\"text/javascript\">\n",
       "                if(typeof uex === 'function'){uex('ld','BoxOfficeChartWidget',{wb:1});}\n",
       "            </script>\n",
       "</div>"
      ]
     },
     "execution_count": 25,
     "metadata": {},
     "output_type": "execute_result"
    }
   ],
   "source": [
    "section"
   ]
  },
  {
   "cell_type": "code",
   "execution_count": 26,
   "metadata": {},
   "outputs": [],
   "source": [
    "databody = section.find('tbody')"
   ]
  },
  {
   "cell_type": "code",
   "execution_count": 27,
   "metadata": {},
   "outputs": [
    {
     "data": {
      "text/plain": [
       "10"
      ]
     },
     "execution_count": 27,
     "metadata": {},
     "output_type": "execute_result"
    }
   ],
   "source": [
    "movielist = databody.find_all('tr')\n",
    "len(movielist)\n"
   ]
  },
  {
   "cell_type": "code",
   "execution_count": 28,
   "metadata": {},
   "outputs": [
    {
     "data": {
      "text/plain": [
       "<tr>\n",
       "<td class=\"posterColumn\">\n",
       "<a href=\"/title/tt10872600\"> <img alt=\"Spider-Man: No Way Home\" height=\"67\" src=\"https://m.media-amazon.com/images/M/MV5BZWMyYzFjYTYtNTRjYi00OGExLWE2YzgtOGRmYjAxZTU3NzBiXkEyXkFqcGdeQXVyMzQ0MzA0NTM@._V1_UY67_CR0,0,45,67_AL_.jpg\" width=\"45\"/>\n",
       "</a> </td><td class=\"titleColumn\">\n",
       "<a href=\"/title/tt10872600\" title=\"Jon Watts (dir.), Tom Holland, Zendaya\">Spider-Man: No Way Home</a>\n",
       "</td>\n",
       "<td class=\"ratingColumn\">\n",
       "                            $9.5M\n",
       "                    </td>\n",
       "<td class=\"ratingColumn\">\n",
       "<span class=\"secondaryInfo\">$748.9M</span>\n",
       "</td>\n",
       "<td class=\"weeksColumn\">8</td>\n",
       "<td class=\"watchlistColumn\"><div class=\"wlb_ribbon\" data-tconst=\"tt10872600\"></div></td>\n",
       "</tr>"
      ]
     },
     "execution_count": 28,
     "metadata": {},
     "output_type": "execute_result"
    }
   ],
   "source": [
    "movielist[2]"
   ]
  },
  {
   "cell_type": "code",
   "execution_count": 29,
   "metadata": {},
   "outputs": [
    {
     "name": "stdout",
     "output_type": "stream",
     "text": [
      "name: Jackass Forever\n",
      "weekly: $23.2M\n",
      "gross: $23.2M\n",
      "weeks 1\n",
      "------------------------------\n",
      "name: Moonfall\n",
      "weekly: $9.9M\n",
      "gross: $9.9M\n",
      "weeks 1\n",
      "------------------------------\n",
      "name: Spider-Man: No Way Home\n",
      "weekly: $9.5M\n",
      "gross: $748.9M\n",
      "weeks 8\n",
      "------------------------------\n",
      "name: Scream\n",
      "weekly: $4.8M\n",
      "gross: $69.0M\n",
      "weeks 4\n",
      "------------------------------\n",
      "name: Sing 2\n",
      "weekly: $4.2M\n",
      "gross: $139.6M\n",
      "weeks 7\n",
      "------------------------------\n",
      "name: The King's Man\n",
      "weekly: $1.2M\n",
      "gross: $35.8M\n",
      "weeks 7\n",
      "------------------------------\n",
      "name: Redeeming Love\n",
      "weekly: $1.0M\n",
      "gross: $8.1M\n",
      "weeks 3\n",
      "------------------------------\n",
      "name: American Underdog\n",
      "weekly: $781K\n",
      "gross: $25.9M\n",
      "weeks 7\n",
      "------------------------------\n",
      "name: The 355\n",
      "weekly: $698K\n",
      "gross: $14.2M\n",
      "weeks 5\n",
      "------------------------------\n",
      "name: Licorice Pizza\n",
      "weekly: $645K\n",
      "gross: $12.7M\n",
      "weeks 11\n",
      "------------------------------\n"
     ]
    }
   ],
   "source": [
    "for movie in movielist:\n",
    "    title =  movie.find(\"td\",{'class':'titleColumn'})\n",
    "    ratings = movie.find_all('td',{'class':'ratingColumn'})\n",
    "    weeks = movie.find('td',{'class':'weeksColumn'})\n",
    "    print(\"name:\",title.text.strip())\n",
    "    print(\"weekly:\",ratings[0].text.strip())\n",
    "    print(\"gross:\",ratings[1].text.strip())\n",
    "    print(\"weeks\",weeks.text.strip())\n",
    "    print(\"---\"*10)\n"
   ]
  },
  {
   "cell_type": "code",
   "execution_count": 30,
   "metadata": {},
   "outputs": [
    {
     "name": "stdout",
     "output_type": "stream",
     "text": [
      "saved as crappy_data_file.tsv\n"
     ]
    }
   ],
   "source": [
    "with open('crappy_data_file.tsv','w') as file:\n",
    "    for movie in movielist:\n",
    "        title =  movie.find(\"td\",{'class':'titleColumn'})\n",
    "        ratings = movie.find_all('td',{'class':'ratingColumn'})\n",
    "        weeks = movie.find('td',{'class':'weeksColumn'})\n",
    "        file.write(f\"{title.text.strip()}\\t{ratings[0].text.strip()}\\t{ratings[1].text.strip()}\\t{weeks.text}\\n\")\n",
    "    print(\"saved as crappy_data_file.tsv\")\n"
   ]
  },
  {
   "cell_type": "code",
   "execution_count": 31,
   "metadata": {},
   "outputs": [],
   "source": [
    "import pandas as pd"
   ]
  },
  {
   "cell_type": "code",
   "execution_count": 32,
   "metadata": {},
   "outputs": [
    {
     "data": {
      "text/html": [
       "<div>\n",
       "<style scoped>\n",
       "    .dataframe tbody tr th:only-of-type {\n",
       "        vertical-align: middle;\n",
       "    }\n",
       "\n",
       "    .dataframe tbody tr th {\n",
       "        vertical-align: top;\n",
       "    }\n",
       "\n",
       "    .dataframe thead th {\n",
       "        text-align: right;\n",
       "    }\n",
       "</style>\n",
       "<table border=\"1\" class=\"dataframe\">\n",
       "  <thead>\n",
       "    <tr style=\"text-align: right;\">\n",
       "      <th></th>\n",
       "      <th>0</th>\n",
       "      <th>1</th>\n",
       "      <th>2</th>\n",
       "      <th>3</th>\n",
       "    </tr>\n",
       "  </thead>\n",
       "  <tbody>\n",
       "    <tr>\n",
       "      <th>0</th>\n",
       "      <td>Jackass Forever</td>\n",
       "      <td>$23.2M</td>\n",
       "      <td>$23.2M</td>\n",
       "      <td>1</td>\n",
       "    </tr>\n",
       "    <tr>\n",
       "      <th>1</th>\n",
       "      <td>Moonfall</td>\n",
       "      <td>$9.9M</td>\n",
       "      <td>$9.9M</td>\n",
       "      <td>1</td>\n",
       "    </tr>\n",
       "    <tr>\n",
       "      <th>2</th>\n",
       "      <td>Spider-Man: No Way Home</td>\n",
       "      <td>$9.5M</td>\n",
       "      <td>$748.9M</td>\n",
       "      <td>8</td>\n",
       "    </tr>\n",
       "    <tr>\n",
       "      <th>3</th>\n",
       "      <td>Scream</td>\n",
       "      <td>$4.8M</td>\n",
       "      <td>$69.0M</td>\n",
       "      <td>4</td>\n",
       "    </tr>\n",
       "    <tr>\n",
       "      <th>4</th>\n",
       "      <td>Sing 2</td>\n",
       "      <td>$4.2M</td>\n",
       "      <td>$139.6M</td>\n",
       "      <td>7</td>\n",
       "    </tr>\n",
       "    <tr>\n",
       "      <th>5</th>\n",
       "      <td>The King's Man</td>\n",
       "      <td>$1.2M</td>\n",
       "      <td>$35.8M</td>\n",
       "      <td>7</td>\n",
       "    </tr>\n",
       "    <tr>\n",
       "      <th>6</th>\n",
       "      <td>Redeeming Love</td>\n",
       "      <td>$1.0M</td>\n",
       "      <td>$8.1M</td>\n",
       "      <td>3</td>\n",
       "    </tr>\n",
       "    <tr>\n",
       "      <th>7</th>\n",
       "      <td>American Underdog</td>\n",
       "      <td>$781K</td>\n",
       "      <td>$25.9M</td>\n",
       "      <td>7</td>\n",
       "    </tr>\n",
       "    <tr>\n",
       "      <th>8</th>\n",
       "      <td>The 355</td>\n",
       "      <td>$698K</td>\n",
       "      <td>$14.2M</td>\n",
       "      <td>5</td>\n",
       "    </tr>\n",
       "    <tr>\n",
       "      <th>9</th>\n",
       "      <td>Licorice Pizza</td>\n",
       "      <td>$645K</td>\n",
       "      <td>$12.7M</td>\n",
       "      <td>11</td>\n",
       "    </tr>\n",
       "  </tbody>\n",
       "</table>\n",
       "</div>"
      ],
      "text/plain": [
       "                         0       1        2   3\n",
       "0          Jackass Forever  $23.2M   $23.2M   1\n",
       "1                 Moonfall   $9.9M    $9.9M   1\n",
       "2  Spider-Man: No Way Home   $9.5M  $748.9M   8\n",
       "3                   Scream   $4.8M   $69.0M   4\n",
       "4                   Sing 2   $4.2M  $139.6M   7\n",
       "5           The King's Man   $1.2M   $35.8M   7\n",
       "6           Redeeming Love   $1.0M    $8.1M   3\n",
       "7        American Underdog   $781K   $25.9M   7\n",
       "8                  The 355   $698K   $14.2M   5\n",
       "9           Licorice Pizza   $645K   $12.7M  11"
      ]
     },
     "execution_count": 32,
     "metadata": {},
     "output_type": "execute_result"
    }
   ],
   "source": [
    "pd.read_csv(\"crappy_data_file.tsv\",sep='\\t',header=None)"
   ]
  }
 ],
 "metadata": {
  "interpreter": {
   "hash": "10b35615fda2620ac90103463a2ff4f7a4c393ab0c46b4cd693939ce545bd675"
  },
  "kernelspec": {
   "display_name": "Python 3.9.7 64-bit",
   "language": "python",
   "name": "python3"
  },
  "language_info": {
   "codemirror_mode": {
    "name": "ipython",
    "version": 3
   },
   "file_extension": ".py",
   "mimetype": "text/x-python",
   "name": "python",
   "nbconvert_exporter": "python",
   "pygments_lexer": "ipython3",
   "version": "3.9.7"
  },
  "orig_nbformat": 4
 },
 "nbformat": 4,
 "nbformat_minor": 2
}
