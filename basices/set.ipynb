{
 "cells": [
  {
   "cell_type": "markdown",
   "metadata": {},
   "source": [
    "## Properties\n",
    "- is unorder\n",
    "- is unindexed\n",
    "- is mutable(dynamic can only store immutable data)\n",
    "- is heterogenous (can store different datatype element)\n",
    "- is represented by square breacket {}\n",
    "- has a function called set()\n",
    "- can hold unique elements\n",
    "- cannot be nested\n",
    "\n",
    "#### what we are going to do\n",
    "- create\n",
    "- loop\n",
    "- operation\n",
    "- functions\n",
    "- comprehension\n",
    "- map and filter"
   ]
  },
  {
   "cell_type": "markdown",
   "metadata": {},
   "source": []
  }
 ],
 "metadata": {
  "language_info": {
   "name": "python"
  },
  "orig_nbformat": 4
 },
 "nbformat": 4,
 "nbformat_minor": 2
}
