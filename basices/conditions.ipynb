{
 "cells": [
  {
   "cell_type": "markdown",
   "metadata": {},
   "source": [
    "# conditions\n",
    "1. if -> one condition for only True case\n",
    "2. if else -> one condition but both sitution (true/false)\n",
    "3. if elif else -> mulitiple conditon\n",
    "4. match -> mulitiple condition  but smaller code \n",
    "\n",
    "# python indetation \n",
    "python uses indentation of 4 spaces/1 tab to create block of Code\n",
    "\n",
    "A block of code is an logical area, where we perform some operations realted to a context\n",
    "\n",
    "A block of code start with keywoeds like if, for, def , class, etc and also with colon : at the first line of block\n",
    "\n",
    "block ends when we write some code outside the indentation(remove indentation) \n"
   ]
  },
  {
   "cell_type": "code",
   "execution_count": 36,
   "metadata": {},
   "outputs": [],
   "source": [
    "a = 10\n",
    "b = 15"
   ]
  },
  {
   "cell_type": "code",
   "execution_count": 37,
   "metadata": {},
   "outputs": [],
   "source": [
    "if a > b:\n",
    "    print(\"amazing answer\")"
   ]
  },
  {
   "cell_type": "code",
   "execution_count": 38,
   "metadata": {},
   "outputs": [
    {
     "ename": "ValueError",
     "evalue": "could not convert string to float: ''",
     "output_type": "error",
     "traceback": [
      "\u001b[1;31m---------------------------------------------------------------------------\u001b[0m",
      "\u001b[1;31mValueError\u001b[0m                                Traceback (most recent call last)",
      "\u001b[1;32mC:\\Users\\KULDEE~1\\AppData\\Local\\Temp/ipykernel_4012/1058298580.py\u001b[0m in \u001b[0;36m<module>\u001b[1;34m\u001b[0m\n\u001b[1;32m----> 1\u001b[1;33m \u001b[0mtemp\u001b[0m \u001b[1;33m=\u001b[0m \u001b[0mfloat\u001b[0m\u001b[1;33m(\u001b[0m\u001b[0minput\u001b[0m\u001b[1;33m(\u001b[0m\u001b[1;34m\"enter the temp in C degree\"\u001b[0m\u001b[1;33m)\u001b[0m\u001b[1;33m)\u001b[0m\u001b[1;33m\u001b[0m\u001b[1;33m\u001b[0m\u001b[0m\n\u001b[0m\u001b[0;32m      2\u001b[0m \u001b[1;32mif\u001b[0m \u001b[0mtemp\u001b[0m \u001b[1;33m<=\u001b[0m\u001b[1;36m15\u001b[0m\u001b[1;33m:\u001b[0m\u001b[1;33m\u001b[0m\u001b[1;33m\u001b[0m\u001b[0m\n\u001b[0;32m      3\u001b[0m     \u001b[0mprint\u001b[0m\u001b[1;33m(\u001b[0m\u001b[1;34m\"the weather is cold\"\u001b[0m\u001b[1;33m)\u001b[0m\u001b[1;33m\u001b[0m\u001b[1;33m\u001b[0m\u001b[0m\n\u001b[0;32m      4\u001b[0m     \u001b[0mprint\u001b[0m\u001b[1;33m(\u001b[0m\u001b[1;34m\"i should probably wear a jacket before goint out\"\u001b[0m\u001b[1;33m)\u001b[0m\u001b[1;33m\u001b[0m\u001b[1;33m\u001b[0m\u001b[0m\n",
      "\u001b[1;31mValueError\u001b[0m: could not convert string to float: ''"
     ]
    }
   ],
   "source": [
    "temp = float(input(\"enter the temp in C degree\"))\n",
    "if temp <=15:\n",
    "    print(\"the weather is cold\")\n",
    "    print(\"i should probably wear a jacket before goint out\")"
   ]
  },
  {
   "cell_type": "code",
   "execution_count": null,
   "metadata": {},
   "outputs": [
    {
     "name": "stdout",
     "output_type": "stream",
     "text": [
      "not nice at all\n"
     ]
    }
   ],
   "source": [
    "x = 12\n",
    "if x == 13:\n",
    "    print(\"nice\")\n",
    "else:\n",
    "    print(\"not nice at all\")\n"
   ]
  },
  {
   "cell_type": "code",
   "execution_count": null,
   "metadata": {},
   "outputs": [
    {
     "name": "stdout",
     "output_type": "stream",
     "text": [
      "the wearther seem ok\n",
      "i should buy 😀to eat\n"
     ]
    }
   ],
   "source": [
    "temp = float(input(\"enter the temp in C degree\"))\n",
    "if temp <=15:\n",
    "    print(\"the weather is cold\")\n",
    "    print(\"i should probably wear a jacket before goint out\")\n",
    "else:\n",
    "    print(\"the wearther seem ok\")\n",
    "    print(\"i should buy 😀to eat\")"
   ]
  },
  {
   "cell_type": "code",
   "execution_count": null,
   "metadata": {},
   "outputs": [
    {
     "name": "stdout",
     "output_type": "stream",
     "text": [
      "you are an adult\n"
     ]
    }
   ],
   "source": [
    "age = int(input(\"enter our age\"))\n",
    "if age <=10:\n",
    "    print(\"you are a kid 😊\")\n",
    "elif age >=11 and age <= 20:\n",
    "    print(\"you are teenage 😎\")\n",
    "elif age >=21 and age <= 60:\n",
    "    print(\"you are an adult\")\n",
    "elif age >= 61 and age <= 100:\n",
    "    print(\"you are old\")\n",
    "else:\n",
    "    print(\"this program is meant for humans\")\n",
    "\n",
    "\n"
   ]
  },
  {
   "cell_type": "markdown",
   "metadata": {},
   "source": [
    "# write a program\n",
    "\n",
    "to display movie stars based on your score of a movie out to 100. Example if your score is 50, then show 3 stars , if score is 70 or more show 4 star so on. Use if elif alse "
   ]
  },
  {
   "cell_type": "code",
   "execution_count": null,
   "metadata": {},
   "outputs": [
    {
     "name": "stdout",
     "output_type": "stream",
     "text": [
      "2 star\n"
     ]
    }
   ],
   "source": [
    "score = int(input(\"enter movie star score\"))\n",
    "if score == 0:\n",
    "    print(\" 1 star\")\n",
    "elif score >=0 and score <= 50:\n",
    "    print(\"2 star\")\n",
    "elif score >=50 and score <= 70:\n",
    "    print(\" 3 star\")\n",
    "elif score >= 70 and score <= 100:\n",
    "    print(\" 4 star\")\n",
    "elif score == 100:\n",
    "    print(\"5 star\")    \n"
   ]
  },
  {
   "cell_type": "markdown",
   "metadata": {},
   "source": [
    "# Nesting Condition"
   ]
  },
  {
   "cell_type": "code",
   "execution_count": null,
   "metadata": {},
   "outputs": [
    {
     "name": "stdout",
     "output_type": "stream",
     "text": [
      "is this is vegetable\n"
     ]
    }
   ],
   "source": [
    "color = input(\"color\")\n",
    "shape =input(\"shape (long/round)\")\n",
    "if color == \"yellow\":\n",
    "    if shape == \" long\":\n",
    "        print(\"the fruit you looking in banana\")\n",
    "    elif shape == \"rond\":\n",
    "        print(\"the fruit i muskmelon\")\n",
    "if color == \"green\":\n",
    "    print(\"the fruit is grape\")\n",
    "else:\n",
    "      print(\"is this is vegetable\")              "
   ]
  },
  {
   "cell_type": "markdown",
   "metadata": {},
   "source": [
    "# One Line Conditions"
   ]
  },
  {
   "cell_type": "code",
   "execution_count": null,
   "metadata": {},
   "outputs": [
    {
     "name": "stdout",
     "output_type": "stream",
     "text": [
      "Name is ok\n"
     ]
    }
   ],
   "source": [
    "name = input(\"enter your nmae:\")\n",
    "if len(name) > 10:\n",
    "    print(\"Name too big\")\n",
    "else:\n",
    "    print(\"Name is ok\")    "
   ]
  },
  {
   "cell_type": "code",
   "execution_count": null,
   "metadata": {},
   "outputs": [
    {
     "name": "stdout",
     "output_type": "stream",
     "text": [
      "name is ok\n"
     ]
    }
   ],
   "source": [
    "print(\" name too boig\") if len(name) > 10 else print(\"name is ok\")"
   ]
  },
  {
   "cell_type": "code",
   "execution_count": null,
   "metadata": {},
   "outputs": [
    {
     "name": "stdout",
     "output_type": "stream",
     "text": [
      "Great\n"
     ]
    }
   ],
   "source": [
    "if a > 5: print('Great')"
   ]
  },
  {
   "cell_type": "code",
   "execution_count": null,
   "metadata": {},
   "outputs": [],
   "source": []
  }
 ],
 "metadata": {
  "interpreter": {
   "hash": "feb5410b972a84561cf38b0fe3aceb480d942002c0e798026e87d39a79c73f3a"
  },
  "kernelspec": {
   "display_name": "Python 3.9.7 64-bit",
   "language": "python",
   "name": "python3"
  },
  "language_info": {
   "codemirror_mode": {
    "name": "ipython",
    "version": 3
   },
   "file_extension": ".py",
   "mimetype": "text/x-python",
   "name": "python",
   "nbconvert_exporter": "python",
   "pygments_lexer": "ipython3",
   "version": "3.9.7"
  },
  "orig_nbformat": 4
 },
 "nbformat": 4,
 "nbformat_minor": 2
}
