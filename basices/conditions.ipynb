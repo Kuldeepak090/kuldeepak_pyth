{
 "cells": [
  {
   "cell_type": "code",
   "execution_count": 1,
   "metadata": {},
   "outputs": [
    {
     "ename": "SyntaxError",
     "evalue": "invalid syntax (<ipython-input-1-d3cab0392cc4>, line 2)",
     "output_type": "error",
     "traceback": [
      "\u001b[1;36m  File \u001b[1;32m\"<ipython-input-1-d3cab0392cc4>\"\u001b[1;36m, line \u001b[1;32m2\u001b[0m\n\u001b[1;33m    1. if -> one condition\u001b[0m\n\u001b[1;37m          ^\u001b[0m\n\u001b[1;31mSyntaxError\u001b[0m\u001b[1;31m:\u001b[0m invalid syntax\n"
     ]
    }
   ],
   "source": [
    "# conditions\n",
    "1. if -> one condition\n",
    "2. if else -> one condition but bth sitution (true/false)\n",
    "3. if elif else -> mulitiple conditon\n",
    "4. match -> mulitiple condition  but smaller code \n",
    "\n",
    "# python indetation \n",
    "python uses indentation of 4 spaces/1 tab to create block of Code\n"
   ]
  },
  {
   "cell_type": "code",
   "execution_count": null,
   "metadata": {},
   "outputs": [],
   "source": [
    "a = 10\n",
    "b = 15"
   ]
  },
  {
   "cell_type": "code",
   "execution_count": null,
   "metadata": {},
   "outputs": [],
   "source": [
    "if a > b:\n",
    "    print(\"amazing answer\")"
   ]
  },
  {
   "cell_type": "code",
   "execution_count": null,
   "metadata": {},
   "outputs": [
    {
     "name": "stdout",
     "output_type": "stream",
     "text": [
      "the weather is cold\n",
      "i should probably wear a jacket before goint out\n"
     ]
    }
   ],
   "source": [
    "temp = float(input(\"enter the temp in C degree\"))\n",
    "if temp <=15:\n",
    "    print(\"the weather is cold\")\n",
    "    print(\"i should probably wear a jacket before goint out\")"
   ]
  },
  {
   "cell_type": "code",
   "execution_count": null,
   "metadata": {},
   "outputs": [
    {
     "name": "stdout",
     "output_type": "stream",
     "text": [
      "not nice at all\n"
     ]
    }
   ],
   "source": [
    "x = 12\n",
    "if x == 13:\n",
    "    print(\"nice\")\n",
    "else:\n",
    "    print(\"not nice at all\")\n"
   ]
  },
  {
   "cell_type": "code",
   "execution_count": null,
   "metadata": {},
   "outputs": [
    {
     "name": "stdout",
     "output_type": "stream",
     "text": [
      "the weather is cold\n",
      "i should probably wear a jacket before goint out\n"
     ]
    }
   ],
   "source": [
    "temp = float(input(\"enter the temp in C degree\"))\n",
    "if temp <=15:\n",
    "    print(\"the weather is cold\")\n",
    "    print(\"i should probably wear a jacket before goint out\")\n",
    "else:\n",
    "    print(\"the wearther seem ok\")\n",
    "    pint(\"i should buy 😀to eat\")"
   ]
  },
  {
   "cell_type": "code",
   "execution_count": null,
   "metadata": {},
   "outputs": [
    {
     "name": "stdout",
     "output_type": "stream",
     "text": [
      "you are old\n"
     ]
    }
   ],
   "source": [
    "age = int(input(\"enter our age\"))\n",
    "if age <=10:\n",
    "    print(\"you are a kid 😊\")\n",
    "elif age >=11 and age <= 20:\n",
    "    print(\"you are teenage 😎\")\n",
    "elif age >=21 and age <= 60:\n",
    "    print(\"you are an adult\")\n",
    "elif age >= 61 and age <= 100:\n",
    "    print(\"you are old\")\n",
    "else:\n",
    "    print(\"this program is meant for humans\")\n",
    "\n",
    "\n"
   ]
  },
  {
   "cell_type": "code",
   "execution_count": null,
   "metadata": {},
   "outputs": [
    {
     "name": "stdout",
     "output_type": "stream",
     "text": [
      "2 star\n"
     ]
    }
   ],
   "source": [
    "score = int(input(\"enter movie star score\"))\n",
    "if score == 0:\n",
    "    print(\" 1 star\")\n",
    "elif score >=0 and score <= 50:\n",
    "    print(\"2 star\")\n",
    "elif score >=50 and score <= 70:\n",
    "    print(\" 3 star\")\n",
    "elif score >= 70 and score <= 100:\n",
    "    print(\" 4 star\")\n",
    "elif score == 100:\n",
    "    print(\"5 star\")    \n",
    "\n",
    "\n",
    "   \n"
   ]
  },
  {
   "cell_type": "code",
   "execution_count": null,
   "metadata": {},
   "outputs": [
    {
     "name": "stdout",
     "output_type": "stream",
     "text": [
      "the fruit is grape\n"
     ]
    }
   ],
   "source": [
    "color = input(\"color\")\n",
    "shape =input(\"shape (long/round)\")\n",
    "if color == \"yellow\":\n",
    "    if shape == \" long\":\n",
    "        print(\"the fruit you looking in banana\")\n",
    "    elif shape == \"rond\":\n",
    "        print(\"the fruit i muskmelon\")\n",
    "if color == \"green\":\n",
    "    print(\"the fruit is grape\")\n",
    "else:\n",
    "      print(\"is this is vegetable\")              "
   ]
  },
  {
   "cell_type": "code",
   "execution_count": null,
   "metadata": {},
   "outputs": [],
   "source": []
  }
 ],
 "metadata": {
  "interpreter": {
   "hash": "feb5410b972a84561cf38b0fe3aceb480d942002c0e798026e87d39a79c73f3a"
  },
  "kernelspec": {
   "display_name": "Python 3.9.7 64-bit",
   "language": "python",
   "name": "python3"
  },
  "language_info": {
   "codemirror_mode": {
    "name": "ipython",
    "version": 3
   },
   "file_extension": ".py",
   "mimetype": "text/x-python",
   "name": "python",
   "nbconvert_exporter": "python",
   "pygments_lexer": "ipython3",
   "version": "3.9.7"
  },
  "orig_nbformat": 4
 },
 "nbformat": 4,
 "nbformat_minor": 2
}
