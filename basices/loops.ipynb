{
 "cells": [
  {
   "cell_type": "markdown",
   "metadata": {},
   "source": [
    "# loops\n",
    "# for \n",
    "- the number of repetation is known\n",
    "- loops run according to iterable (any item tht contain subiteams)\n",
    "\n",
    "   for temp in iterable:\n",
    "      statement 1\n",
    "      statement 2\n",
    "***      \n",
    "# while\n",
    "the number of repetetation is based on condition\n",
    "while expression:\n",
    "  statement 1\n",
    "  statement 2\n",
    "  .....\n",
    "  statement n\n",
    "  "
   ]
  },
  {
   "cell_type": "code",
   "execution_count": null,
   "metadata": {},
   "outputs": [],
   "source": [
    "for i in range(5):\n",
    "    print('loop code:')\n"
   ]
  },
  {
   "cell_type": "code",
   "execution_count": null,
   "metadata": {},
   "outputs": [],
   "source": [
    "for i in range(5):\n",
    "    x = int(input('X:'))\n",
    "    y = int(input('Y:'))\n",
    "    s = x + y\n",
    "    print('total', s)"
   ]
  },
  {
   "cell_type": "markdown",
   "metadata": {},
   "source": [
    "end = line change k line"
   ]
  },
  {
   "cell_type": "code",
   "execution_count": null,
   "metadata": {},
   "outputs": [],
   "source": [
    "for i in range(-5,25):\n",
    "    print(i,end=' ')"
   ]
  },
  {
   "cell_type": "code",
   "execution_count": null,
   "metadata": {},
   "outputs": [],
   "source": [
    "for i in range(5,25,2):\n",
    "    print(i,end=' ')"
   ]
  },
  {
   "cell_type": "code",
   "execution_count": null,
   "metadata": {},
   "outputs": [],
   "source": [
    "for i in range(5,101,5):\n",
    "    print(i,end=' ')"
   ]
  },
  {
   "cell_type": "code",
   "execution_count": null,
   "metadata": {},
   "outputs": [],
   "source": [
    "for i in range(10,0,-1):\n",
    "    print(i,end=' ')"
   ]
  },
  {
   "cell_type": "markdown",
   "metadata": {},
   "source": [
    "### displaying only numbers divisble by 5 and 7 in a Loop"
   ]
  },
  {
   "cell_type": "code",
   "execution_count": null,
   "metadata": {},
   "outputs": [],
   "source": [
    "for i in range(1,1000):\n",
    "    if i % 5 == 0 and i % 7 == 0:\n",
    "        print(i,end=' ')"
   ]
  },
  {
   "cell_type": "code",
   "execution_count": null,
   "metadata": {},
   "outputs": [],
   "source": [
    "total = 0\n",
    "for i in range(1,1000):\n",
    "    if i % 5 == 0 and i % 7 == 0:\n",
    "        total+=i\n",
    "print(total)"
   ]
  },
  {
   "cell_type": "markdown",
   "metadata": {},
   "source": [
    "### Print the total of all even numbers from 1 - 15000"
   ]
  },
  {
   "cell_type": "code",
   "execution_count": null,
   "metadata": {},
   "outputs": [],
   "source": [
    "total = 0\n",
    "for i in range(1,15001):\n",
    "    if i % 2 == 0:\n",
    "       total+= i \n",
    "print(total)     \n",
    "\n",
    "    "
   ]
  },
  {
   "cell_type": "code",
   "execution_count": null,
   "metadata": {},
   "outputs": [],
   "source": [
    "sum(range(2,5000,2))"
   ]
  },
  {
   "cell_type": "markdown",
   "metadata": {},
   "source": [
    "### interating data structures\n",
    "ex : string, list, set etc\n"
   ]
  },
  {
   "cell_type": "code",
   "execution_count": null,
   "metadata": {},
   "outputs": [],
   "source": [
    "name = \"alexandar maximus\"\n",
    "for char in name:\n",
    "    print(char)"
   ]
  },
  {
   "cell_type": "code",
   "execution_count": null,
   "metadata": {},
   "outputs": [],
   "source": [
    "words = [\"we\", \"are\", \"going\", \"to\", \"eat\", \"the\", \"pizza\"]\n",
    "for word in words:\n",
    "    print(word)"
   ]
  },
  {
   "cell_type": "code",
   "execution_count": null,
   "metadata": {},
   "outputs": [],
   "source": [
    "for word in words:\n",
    "    print(word,len(word))"
   ]
  },
  {
   "cell_type": "code",
   "execution_count": null,
   "metadata": {},
   "outputs": [],
   "source": [
    "data = [ [1,2,3], [4,5,6], [7,8,9]]\n",
    "for item in data:\n",
    "    print(item)"
   ]
  },
  {
   "cell_type": "code",
   "execution_count": null,
   "metadata": {},
   "outputs": [],
   "source": [
    "for items in data:\n",
    "    for value in items:\n",
    "        print(value,end=' ')"
   ]
  },
  {
   "cell_type": "markdown",
   "metadata": {},
   "source": [
    "# wap to print thr average of a list given below\n",
    "   [12,1,23,34,45,56,23,12]"
   ]
  },
  {
   "cell_type": "code",
   "execution_count": null,
   "metadata": {},
   "outputs": [],
   "source": [
    "list = [12,1,23,45,56,23,12]\n",
    "total = 0\n",
    "\n",
    "for number in list: \n",
    "    total += number\n",
    "\n",
    "print(\"Average\",number/len(list))"
   ]
  },
  {
   "cell_type": "markdown",
   "metadata": {},
   "source": [
    "# WAP to print the min and max from a list given \n",
    "[2,3,1,23,5,45,657,23,23,12]"
   ]
  },
  {
   "cell_type": "code",
   "execution_count": null,
   "metadata": {},
   "outputs": [],
   "source": [
    "list = [2,3,1,23,5,45,657,23,23,12]\n",
    "min = 0\n",
    "max = 0\n",
    "for number in list:\n",
    "    if min == 0:\n",
    "        min = number\n",
    "    elif number<min:\n",
    "        min = number\n",
    "    elif number>max:\n",
    "        max = number\n",
    "print(\"min\",min)\n",
    "print(\"max\",max)"
   ]
  },
  {
   "cell_type": "markdown",
   "metadata": {},
   "source": [
    "# WAP to take input from uder 10 times and then calculate and average"
   ]
  },
  {
   "cell_type": "code",
   "execution_count": null,
   "metadata": {},
   "outputs": [],
   "source": [
    "x = input('X:')\n",
    "y = input('Y:')\n",
    "s = x + y\n",
    "total +=i\n",
    "avg = total / 10\n",
    "print(total)\n",
    "print(avg)"
   ]
  },
  {
   "cell_type": "markdown",
   "metadata": {},
   "source": [
    "## While"
   ]
  },
  {
   "cell_type": "code",
   "execution_count": null,
   "metadata": {},
   "outputs": [],
   "source": [
    "num = int(input('Enter a number'))\n",
    "while num > 0:\n",
    "    print(\"in loop\")\n",
    "    num -= 1\n",
    "print(\"lopp closed\")"
   ]
  },
  {
   "cell_type": "code",
   "execution_count": null,
   "metadata": {},
   "outputs": [],
   "source": [
    "while input(\">>\") == \"y\":\n",
    "    print(\"this is a loop\")"
   ]
  },
  {
   "cell_type": "code",
   "execution_count": null,
   "metadata": {},
   "outputs": [],
   "source": [
    "while input(\"Add Number(Y/N)\") == 'y':\n",
    "    a = int(input(\"Enter Number 1:\"))\n",
    "    b = int(input(\"Enter Number 2:\"))\n",
    "    print(f'{a} + {b} = {a+b}')"
   ]
  },
  {
   "cell_type": "markdown",
   "metadata": {},
   "source": [
    "### calculate the grade of students and their percentage from marks based on 5 sunjects"
   ]
  },
  {
   "cell_type": "code",
   "execution_count": null,
   "metadata": {},
   "outputs": [],
   "source": [
    "while input(\"Calculate Marks\") == \"yes\":\n",
    "    eng = int(input(\"English Marks:\"))\n",
    "    hin = int(input(\"Hindi Marks:\"))\n",
    "    maths = int(input(\"Maths Marks:\"))\n",
    "    sci = int(input(\"Science Marks:\"))\n",
    "    evs = int(input(\"Evs Marks:\"))\n",
    "    total = eng + hin + maths + sci + evs\n",
    "    perc = total / 5\n",
    "    print(\"Your Repot:\")\n",
    "    print(f\"PERCENTAGE: {perc}%\")\n",
    "    if perc > 80:\n",
    "        grade = \"A\"\n",
    "    elif perc > 60 and perc <= 80:\n",
    "        grade = \"B\"\n",
    "    elif perc > 40 and perc <= 60:\n",
    "        grade = \"C\"\n",
    "    else:\n",
    "\n",
    "        grade = \"F\"\n",
    "    print(f\"GRADE: {grade}\")  \n",
    "    print(\"*\" * 10)"
   ]
  },
  {
   "cell_type": "markdown",
   "metadata": {},
   "source": [
    "# Break and Continue Keywords\n",
    "- break is used for stopping thr loop during an execution\n",
    "- continue is used for skipping a loop execution"
   ]
  },
  {
   "cell_type": "code",
   "execution_count": 19,
   "metadata": {},
   "outputs": [
    {
     "name": "stdout",
     "output_type": "stream",
     "text": [
      ">> alexandar maximus\n",
      ">> alexandar maximus\n",
      ">> alexandar maximus\n",
      ">> alexandar maximus\n",
      ">> alexandar maximus\n",
      ">> alexandar maximus\n",
      ">> alexandar maximus\n",
      ">> alexandar maximus\n",
      ">> alexandar maximus\n",
      ">> alexandar maximus\n",
      ">> alexandar maximus\n",
      ">> alexandar maximus\n",
      ">> alexandar maximus\n",
      ">> alexandar maximus\n",
      ">> alexandar maximus\n",
      ">> alexandar maximus\n",
      ">> alexandar maximus\n",
      ">> alexandar maximus\n",
      ">> alexandar maximus\n",
      ">> alexandar maximus\n",
      ">> alexandar maximus\n",
      ">> alexandar maximus\n",
      ">> alexandar maximus\n",
      ">> alexandar maximus\n",
      ">> alexandar maximus\n",
      ">> alexandar maximus\n",
      ">> alexandar maximus\n",
      ">> alexandar maximus\n",
      ">> alexandar maximus\n",
      ">> alexandar maximus\n",
      ">> alexandar maximus\n",
      ">> alexandar maximus\n",
      ">> alexandar maximus\n",
      ">> alexandar maximus\n",
      ">> alexandar maximus\n",
      ">> alexandar maximus\n",
      ">> alexandar maximus\n",
      ">> alexandar maximus\n",
      ">> alexandar maximus\n",
      ">> alexandar maximus\n",
      ">> alexandar maximus\n",
      ">> alexandar maximus\n",
      ">> alexandar maximus\n",
      ">> alexandar maximus\n",
      ">> alexandar maximus\n",
      ">> alexandar maximus\n",
      ">> alexandar maximus\n",
      ">> alexandar maximus\n",
      ">> alexandar maximus\n",
      ">> alexandar maximus\n",
      ">> alexandar maximus\n",
      ">> alexandar maximus\n",
      ">> alexandar maximus\n",
      ">> alexandar maximus\n",
      ">> alexandar maximus\n",
      ">> alexandar maximus\n",
      ">> alexandar maximus\n",
      ">> alexandar maximus\n",
      ">> alexandar maximus\n",
      ">> alexandar maximus\n",
      ">> alexandar maximus\n",
      ">> alexandar maximus\n",
      ">> alexandar maximus\n",
      ">> alexandar maximus\n",
      ">> alexandar maximus\n",
      ">> alexandar maximus\n",
      ">> alexandar maximus\n",
      ">> alexandar maximus\n",
      ">> alexandar maximus\n",
      ">> alexandar maximus\n",
      ">> alexandar maximus\n",
      ">> alexandar maximus\n",
      ">> alexandar maximus\n",
      ">> alexandar maximus\n",
      ">> alexandar maximus\n",
      ">> alexandar maximus\n",
      ">> alexandar maximus\n",
      ">> alexandar maximus\n",
      ">> alexandar maximus\n",
      ">> alexandar maximus\n",
      ">> alexandar maximus\n",
      ">> alexandar maximus\n",
      ">> alexandar maximus\n",
      ">> alexandar maximus\n",
      ">> alexandar maximus\n",
      ">> alexandar maximus\n",
      ">> alexandar maximus\n",
      ">> alexandar maximus\n",
      ">> alexandar maximus\n",
      ">> alexandar maximus\n",
      ">> alexandar maximus\n",
      ">> alexandar maximus\n",
      ">> alexandar maximus\n",
      ">> alexandar maximus\n",
      ">> alexandar maximus\n",
      ">> alexandar maximus\n",
      ">> alexandar maximus\n",
      ">> alexandar maximus\n",
      ">> alexandar maximus\n",
      ">> alexandar maximus\n",
      ">> alexandar maximus\n",
      ">> alexandar maximus\n",
      ">> alexandar maximus\n",
      ">> alexandar maximus\n",
      ">> alexandar maximus\n",
      ">> alexandar maximus\n",
      ">> alexandar maximus\n",
      ">> alexandar maximus\n",
      ">> alexandar maximus\n",
      ">> alexandar maximus\n",
      ">> alexandar maximus\n",
      ">> alexandar maximus\n",
      ">> alexandar maximus\n",
      ">> alexandar maximus\n",
      ">> alexandar maximus\n",
      ">> alexandar maximus\n",
      ">> alexandar maximus\n",
      ">> alexandar maximus\n",
      ">> alexandar maximus\n",
      ">> alexandar maximus\n",
      ">> alexandar maximus\n",
      ">> alexandar maximus\n",
      ">> alexandar maximus\n",
      ">> alexandar maximus\n",
      ">> alexandar maximus\n",
      ">> alexandar maximus\n",
      ">> alexandar maximus\n",
      ">> alexandar maximus\n",
      ">> alexandar maximus\n",
      ">> alexandar maximus\n",
      ">> alexandar maximus\n",
      ">> alexandar maximus\n",
      ">> alexandar maximus\n",
      ">> alexandar maximus\n",
      ">> alexandar maximus\n",
      ">> alexandar maximus\n",
      ">> alexandar maximus\n",
      ">> alexandar maximus\n",
      ">> alexandar maximus\n",
      ">> alexandar maximus\n",
      ">> alexandar maximus\n",
      ">> alexandar maximus\n",
      ">> alexandar maximus\n",
      ">> alexandar maximus\n",
      ">> alexandar maximus\n",
      ">> alexandar maximus\n",
      ">> alexandar maximus\n",
      ">> alexandar maximus\n",
      ">> alexandar maximus\n",
      ">> alexandar maximus\n",
      ">> alexandar maximus\n",
      ">> alexandar maximus\n",
      ">> alexandar maximus\n",
      ">> alexandar maximus\n",
      ">> alexandar maximus\n",
      ">> alexandar maximus\n",
      ">> alexandar maximus\n",
      ">> alexandar maximus\n",
      ">> alexandar maximus\n",
      ">> alexandar maximus\n",
      ">> alexandar maximus\n",
      ">> alexandar maximus\n",
      ">> alexandar maximus\n",
      ">> alexandar maximus\n",
      ">> alexandar maximus\n",
      ">> alexandar maximus\n",
      ">> alexandar maximus\n",
      ">> alexandar maximus\n",
      ">> alexandar maximus\n",
      ">> alexandar maximus\n",
      ">> alexandar maximus\n",
      ">> alexandar maximus\n",
      ">> alexandar maximus\n",
      ">> alexandar maximus\n",
      ">> alexandar maximus\n",
      ">> alexandar maximus\n",
      ">> alexandar maximus\n",
      ">> alexandar maximus\n",
      ">> alexandar maximus\n",
      ">> alexandar maximus\n",
      ">> alexandar maximus\n",
      ">> alexandar maximus\n",
      ">> alexandar maximus\n",
      ">> alexandar maximus\n",
      ">> alexandar maximus\n",
      ">> alexandar maximus\n",
      ">> alexandar maximus\n",
      ">> alexandar maximus\n",
      ">> alexandar maximus\n",
      ">> alexandar maximus\n",
      ">> alexandar maximus\n",
      ">> alexandar maximus\n",
      ">> alexandar maximus\n",
      ">> alexandar maximus\n",
      ">> alexandar maximus\n",
      ">> alexandar maximus\n",
      ">> alexandar maximus\n",
      ">> alexandar maximus\n",
      ">> alexandar maximus\n",
      ">> alexandar maximus\n",
      ">> alexandar maximus\n",
      ">> alexandar maximus\n",
      ">> alexandar maximus\n",
      ">> alexandar maximus\n",
      ">> alexandar maximus\n",
      ">> alexandar maximus\n",
      ">> alexandar maximus\n",
      ">> alexandar maximus\n",
      ">> alexandar maximus\n",
      ">> alexandar maximus\n",
      ">> alexandar maximus\n",
      ">> alexandar maximus\n",
      ">> alexandar maximus\n"
     ]
    }
   ],
   "source": [
    "# infimte loop with always true conditions\n",
    "while True:\n",
    "    nmae = input(\"enter the name of fav fruit\")\n",
    "    if len(name) <3:\n",
    "        break\n",
    "    print(f\">> {name}\")\n"
   ]
  },
  {
   "cell_type": "code",
   "execution_count": null,
   "metadata": {},
   "outputs": [],
   "source": [
    "#infite loop with continue\n",
    "total =0\n",
    "while True:\n",
    "    amt = input(\"enter amount spend\")\n",
    "    if amt.isnumeric():\n",
    "        amt = int(amt)\n",
    "        if amt < 100:\n",
    "            continue # skip\n",
    "        total += amt\n",
    "    else:\n",
    "        break   \n",
    "print(f\"{total} amt spend\")     "
   ]
  },
  {
   "cell_type": "code",
   "execution_count": null,
   "metadata": {},
   "outputs": [],
   "source": []
  }
 ],
 "metadata": {
  "interpreter": {
   "hash": "b3ba2566441a7c06988d0923437866b63cedc61552a5af99d1f4fb67d367b25f"
  },
  "kernelspec": {
   "display_name": "Python 3.7.4 64-bit ('base': conda)",
   "language": "python",
   "name": "python3"
  },
  "language_info": {
   "codemirror_mode": {
    "name": "ipython",
    "version": 3
   },
   "file_extension": ".py",
   "mimetype": "text/x-python",
   "name": "python",
   "nbconvert_exporter": "python",
   "pygments_lexer": "ipython3",
   "version": "3.8.8"
  },
  "orig_nbformat": 4
 },
 "nbformat": 4,
 "nbformat_minor": 2
}
