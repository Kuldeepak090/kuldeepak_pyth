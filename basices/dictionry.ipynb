{
 "cells": [
  {
   "cell_type": "code",
   "execution_count": 2,
   "metadata": {},
   "outputs": [],
   "source": [
    "student={\n",
    "    'name' : 'rahul',\n",
    "    'class': 4,\n",
    "    'age': 10,\n",
    "    'hostler' : 'true',\n",
    "    'vehicle': 'false'\n",
    "}"
   ]
  },
  {
   "cell_type": "code",
   "execution_count": 3,
   "metadata": {},
   "outputs": [
    {
     "data": {
      "text/plain": [
       "{'name': 'rahul', 'class': 4, 'age': 10, 'hostler': 'true', 'vehicle': 'false'}"
      ]
     },
     "execution_count": 3,
     "metadata": {},
     "output_type": "execute_result"
    }
   ],
   "source": [
    "student"
   ]
  },
  {
   "cell_type": "markdown",
   "metadata": {},
   "source": [
    "### PROPERTIES\n",
    "\n",
    "- is unindexed\n",
    "- key:value based structure\n",
    "- key is always unique for a single\n",
    "- value can be of any data type abd can be duplicated\n",
    "- mutable and heterogenous\n",
    "- represented by { } with key:value pair\n",
    "- has a function called dict()\n",
    "\n",
    "##### what u need to learn?\n",
    "- creat \n",
    "- loop \n",
    "- operation \n",
    "- function\n",
    "- comprehenesion\n",
    "- map,filter"
   ]
  },
  {
   "cell_type": "code",
   "execution_count": 4,
   "metadata": {},
   "outputs": [
    {
     "data": {
      "text/plain": [
       "dict"
      ]
     },
     "execution_count": 4,
     "metadata": {},
     "output_type": "execute_result"
    }
   ],
   "source": [
    "x = {}\n",
    "type(x)"
   ]
  },
  {
   "cell_type": "code",
   "execution_count": 5,
   "metadata": {},
   "outputs": [
    {
     "data": {
      "text/plain": [
       "{'red': '#ff000', 'blue': '#000ff', 'green': '#00ff0', 'orange': '#ff8800'}"
      ]
     },
     "execution_count": 5,
     "metadata": {},
     "output_type": "execute_result"
    }
   ],
   "source": [
    "colordata = {\n",
    "    'red': '#ff000',\n",
    "    'blue': '#000ff',\n",
    "    'green':'#00ff0',\n",
    "    'orange': '#ff8800'\n",
    "}\n",
    "colordata"
   ]
  },
  {
   "cell_type": "code",
   "execution_count": 6,
   "metadata": {},
   "outputs": [
    {
     "data": {
      "text/plain": [
       "{'apple': 100, 'orange': 40, 'banana': 40, 'dragonfruit': 226}"
      ]
     },
     "execution_count": 6,
     "metadata": {},
     "output_type": "execute_result"
    }
   ],
   "source": [
    "fruit_prices =dict(apple = 100, orange = 40, banana = 40, dragonfruit = 226)\n",
    "fruit_prices"
   ]
  },
  {
   "cell_type": "code",
   "execution_count": 1,
   "metadata": {},
   "outputs": [
    {
     "data": {
      "text/plain": [
       "{'animesh': {'english': 4, 'hindi': 5, 'maths': 9},\n",
       " 'syush': {'english': 6.3, 'hindi': 3, 'maths': 6}}"
      ]
     },
     "execution_count": 1,
     "metadata": {},
     "output_type": "execute_result"
    }
   ],
   "source": [
    "# nested dictionary\n",
    "marks ={\n",
    "    'animesh':{\n",
    "        'english': 4,\n",
    "        'hindi': 5,\n",
    "        \"maths\": 9,\n",
    "    },\n",
    "    'syush':{\n",
    "        'english': 6.3 ,\n",
    "        'hindi': 3,\n",
    "        'maths': 6\n",
    "    }\n",
    "}\n",
    "marks"
   ]
  },
  {
   "cell_type": "markdown",
   "metadata": {},
   "source": [
    "## how to access data"
   ]
  },
  {
   "cell_type": "code",
   "execution_count": 7,
   "metadata": {},
   "outputs": [
    {
     "data": {
      "text/plain": [
       "{'apple': 100, 'orange': 40, 'banana': 40, 'dragonfruit': 226}"
      ]
     },
     "execution_count": 7,
     "metadata": {},
     "output_type": "execute_result"
    }
   ],
   "source": [
    "fruit_prices['apple']\n",
    "fruit_prices"
   ]
  },
  {
   "cell_type": "code",
   "execution_count": 8,
   "metadata": {},
   "outputs": [
    {
     "data": {
      "text/plain": [
       "{'english': 4, 'hindi': 5, 'maths': 9}"
      ]
     },
     "execution_count": 8,
     "metadata": {},
     "output_type": "execute_result"
    }
   ],
   "source": [
    "marks['animesh']"
   ]
  },
  {
   "cell_type": "code",
   "execution_count": 9,
   "metadata": {},
   "outputs": [
    {
     "data": {
      "text/plain": [
       "5"
      ]
     },
     "execution_count": 9,
     "metadata": {},
     "output_type": "execute_result"
    }
   ],
   "source": [
    "marks['animesh']['hindi']"
   ]
  },
  {
   "cell_type": "code",
   "execution_count": 10,
   "metadata": {},
   "outputs": [],
   "source": [
    "scores ={\n",
    "    'alex' : [10,20,30,40],\n",
    "    'alexa': [2,40,20,10,30]\n",
    "}"
   ]
  },
  {
   "cell_type": "code",
   "execution_count": 11,
   "metadata": {},
   "outputs": [
    {
     "data": {
      "text/plain": [
       "[2, 40, 20, 10, 30]"
      ]
     },
     "execution_count": 11,
     "metadata": {},
     "output_type": "execute_result"
    }
   ],
   "source": [
    "scores['alexa']"
   ]
  },
  {
   "cell_type": "code",
   "execution_count": 12,
   "metadata": {},
   "outputs": [
    {
     "data": {
      "text/plain": [
       "30"
      ]
     },
     "execution_count": 12,
     "metadata": {},
     "output_type": "execute_result"
    }
   ],
   "source": [
    "scores['alex'][2]"
   ]
  },
  {
   "cell_type": "markdown",
   "metadata": {},
   "source": [
    "## for loop for dict"
   ]
  },
  {
   "cell_type": "code",
   "execution_count": 31,
   "metadata": {},
   "outputs": [
    {
     "name": "stdout",
     "output_type": "stream",
     "text": [
      "red\n",
      "blue\n",
      "green\n",
      "orange\n",
      "yellow\n"
     ]
    }
   ],
   "source": [
    "# by deadfult a dict will only provied un the keys\n",
    "for i in colordata:\n",
    "    print(i)"
   ]
  },
  {
   "cell_type": "code",
   "execution_count": 34,
   "metadata": {},
   "outputs": [
    {
     "name": "stdout",
     "output_type": "stream",
     "text": [
      "red #ff000\n",
      "blue #000ff\n",
      "green #00ff0\n",
      "orange #ff8800\n",
      "yellow #ffff0\n"
     ]
    }
   ],
   "source": [
    "#getting value the naive way\n",
    "for i in colordata:\n",
    "    print(i, colordata[i])"
   ]
  },
  {
   "cell_type": "code",
   "execution_count": 35,
   "metadata": {},
   "outputs": [
    {
     "name": "stdout",
     "output_type": "stream",
     "text": [
      "#ff000\n",
      "#000ff\n",
      "#00ff0\n",
      "#ff8800\n",
      "#ffff0\n"
     ]
    }
   ],
   "source": [
    "#getting value the another way\n",
    "for i in colordata.values():\n",
    "    print(i)"
   ]
  },
  {
   "cell_type": "code",
   "execution_count": 33,
   "metadata": {},
   "outputs": [
    {
     "name": "stdout",
     "output_type": "stream",
     "text": [
      "red #ff000\n",
      "blue #000ff\n",
      "green #00ff0\n",
      "orange #ff8800\n",
      "yellow #ffff0\n"
     ]
    }
   ],
   "source": [
    "# the proper way for dict traversal\n",
    "for k,v in colordata.items():\n",
    "    print(k,v)"
   ]
  },
  {
   "cell_type": "code",
   "execution_count": 16,
   "metadata": {},
   "outputs": [
    {
     "name": "stdout",
     "output_type": "stream",
     "text": [
      "animesh\n",
      "{'english': 4, 'hindi': 5, 'maths': 9}\n",
      "syush\n",
      "{'english': 6.3, 'hindi': 3, 'maths': 6}\n"
     ]
    }
   ],
   "source": [
    "for k,data in marks.items():\n",
    "    print(k)\n",
    "    print(data)"
   ]
  },
  {
   "cell_type": "code",
   "execution_count": 17,
   "metadata": {},
   "outputs": [
    {
     "name": "stdout",
     "output_type": "stream",
     "text": [
      "animesh {'english': 4, 'hindi': 5, 'maths': 9}\n",
      "syush {'english': 6.3, 'hindi': 3, 'maths': 6}\n"
     ]
    }
   ],
   "source": [
    "for k,data in marks.items():\n",
    "    print(k,data)\n",
    "    "
   ]
  },
  {
   "cell_type": "code",
   "execution_count": 18,
   "metadata": {},
   "outputs": [
    {
     "name": "stdout",
     "output_type": "stream",
     "text": [
      "animesh\n",
      "{'english': 4, 'hindi': 5, 'maths': 9}\n",
      "syush\n",
      "{'english': 6.3, 'hindi': 3, 'maths': 6}\n"
     ]
    }
   ],
   "source": [
    "for k,data in marks.items():\n",
    "    print(k)\n",
    "    print(data)"
   ]
  },
  {
   "cell_type": "code",
   "execution_count": 19,
   "metadata": {},
   "outputs": [
    {
     "name": "stdout",
     "output_type": "stream",
     "text": [
      "animesh =>\n",
      "\t english 4\n",
      "\t hindi 5\n",
      "\t maths 9\n",
      "{'english': 4, 'hindi': 5, 'maths': 9}\n",
      "syush =>\n",
      "\t english 6.3\n",
      "\t hindi 3\n",
      "\t maths 6\n",
      "{'english': 6.3, 'hindi': 3, 'maths': 6}\n"
     ]
    }
   ],
   "source": [
    "for k,data in marks.items():\n",
    "    print(k, '=>')\n",
    "    if isinstance(data,dict):\n",
    "        for k,v in data.items():\n",
    "            print(\"\\t\",k,v)\n",
    "        else:\n",
    "            print(data)    "
   ]
  },
  {
   "cell_type": "markdown",
   "metadata": {},
   "source": [
    "#### functions\n",
    "- add\n",
    " - no function for single key value pair\n",
    " - update\n",
    "- remove\n",
    " - pop\n",
    " - clear\n",
    "- utility\n",
    " - copy\n",
    " - get \n",
    " - fronkeys\n",
    " - items\n",
    " - keys\n",
    " - values \n",
    " ## how to add a single k:v pair in dict"
   ]
  },
  {
   "cell_type": "code",
   "execution_count": 20,
   "metadata": {},
   "outputs": [
    {
     "data": {
      "text/plain": [
       "{'animesh': {'english': 4, 'hindi': 5, 'maths': 9},\n",
       " 'syush': {'english': 6.3, 'hindi': 3, 'maths': 6},\n",
       " 'kuldeepak': {'hindi': 5}}"
      ]
     },
     "execution_count": 20,
     "metadata": {},
     "output_type": "execute_result"
    }
   ],
   "source": [
    "marks['kuldeepak']= {'hindi':5}\n",
    "marks"
   ]
  },
  {
   "cell_type": "code",
   "execution_count": 37,
   "metadata": {},
   "outputs": [
    {
     "data": {
      "text/plain": [
       "{'banana': 50}"
      ]
     },
     "execution_count": 37,
     "metadata": {},
     "output_type": "execute_result"
    }
   ],
   "source": [
    "fruit_prices['banana']= 50 # existing key can be update\n",
    "fruit_prices"
   ]
  },
  {
   "cell_type": "code",
   "execution_count": 36,
   "metadata": {},
   "outputs": [
    {
     "data": {
      "text/plain": [
       "{'red': '#ff000',\n",
       " 'blue': '#000ff',\n",
       " 'green': '#00ff0',\n",
       " 'orange': '#ff8800',\n",
       " 'yellow': '#ffff0'}"
      ]
     },
     "execution_count": 36,
     "metadata": {},
     "output_type": "execute_result"
    }
   ],
   "source": [
    "colordata['yellow']= '#ffff0' # new key and value will be added\n",
    "colordata"
   ]
  },
  {
   "cell_type": "code",
   "execution_count": 23,
   "metadata": {},
   "outputs": [],
   "source": [
    "veg_prices ={\n",
    "    \"tamato\": 30,\n",
    "    \"patato\": 20\n",
    "}"
   ]
  },
  {
   "cell_type": "code",
   "execution_count": 24,
   "metadata": {},
   "outputs": [
    {
     "data": {
      "text/plain": [
       "{'apple': 100,\n",
       " 'orange': 40,\n",
       " 'banana': 50,\n",
       " 'dragonfruit': 226,\n",
       " 'tamato': 30,\n",
       " 'patato': 20}"
      ]
     },
     "execution_count": 24,
     "metadata": {},
     "output_type": "execute_result"
    }
   ],
   "source": [
    "fruit_prices.update(veg_prices)\n",
    "fruit_prices"
   ]
  },
  {
   "cell_type": "code",
   "execution_count": 25,
   "metadata": {},
   "outputs": [
    {
     "data": {
      "text/plain": [
       "30"
      ]
     },
     "execution_count": 25,
     "metadata": {},
     "output_type": "execute_result"
    }
   ],
   "source": [
    "fruit_prices.pop('tamato')"
   ]
  },
  {
   "cell_type": "code",
   "execution_count": 26,
   "metadata": {},
   "outputs": [
    {
     "data": {
      "text/plain": [
       "{'apple': 100, 'orange': 40, 'banana': 50, 'dragonfruit': 226, 'patato': 20}"
      ]
     },
     "execution_count": 26,
     "metadata": {},
     "output_type": "execute_result"
    }
   ],
   "source": [
    "fruit_prices"
   ]
  },
  {
   "cell_type": "code",
   "execution_count": 27,
   "metadata": {},
   "outputs": [
    {
     "data": {
      "text/plain": [
       "('patato', 20)"
      ]
     },
     "execution_count": 27,
     "metadata": {},
     "output_type": "execute_result"
    }
   ],
   "source": [
    "fruit_prices.popitem()"
   ]
  },
  {
   "cell_type": "code",
   "execution_count": 28,
   "metadata": {},
   "outputs": [],
   "source": [
    "fruit_prices.clear()"
   ]
  },
  {
   "cell_type": "code",
   "execution_count": 29,
   "metadata": {},
   "outputs": [
    {
     "data": {
      "text/plain": [
       "{}"
      ]
     },
     "execution_count": 29,
     "metadata": {},
     "output_type": "execute_result"
    }
   ],
   "source": [
    "fruit_prices"
   ]
  },
  {
   "cell_type": "code",
   "execution_count": null,
   "metadata": {},
   "outputs": [],
   "source": []
  }
 ],
 "metadata": {
  "interpreter": {
   "hash": "feb5410b972a84561cf38b0fe3aceb480d942002c0e798026e87d39a79c73f3a"
  },
  "kernelspec": {
   "display_name": "Python 3.9.7 64-bit",
   "language": "python",
   "name": "python3"
  },
  "language_info": {
   "codemirror_mode": {
    "name": "ipython",
    "version": 3
   },
   "file_extension": ".py",
   "mimetype": "text/x-python",
   "name": "python",
   "nbconvert_exporter": "python",
   "pygments_lexer": "ipython3",
   "version": "3.9.7"
  },
  "orig_nbformat": 4
 },
 "nbformat": 4,
 "nbformat_minor": 2
}
