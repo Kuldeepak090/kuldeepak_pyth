{
 "cells": [
  {
   "cell_type": "markdown",
   "metadata": {},
   "source": [
    "## create a dictionary using for loop to store the contact numbers of family members (at least 10)"
   ]
  },
  {
   "cell_type": "code",
   "execution_count": 3,
   "metadata": {},
   "outputs": [
    {
     "name": "stdout",
     "output_type": "stream",
     "text": [
      "mother 1\n",
      "father 2\n",
      "brother 3\n",
      "sister 4\n",
      "uncle 5\n",
      "anty 6\n",
      "grandfather 7\n",
      "grandmother 8\n",
      "father in law 9\n",
      "mother in law  10\n"
     ]
    }
   ],
   "source": [
    "contact_number = {\n",
    "    \"mother\" : 1,\n",
    "    \"father\" : 2,\n",
    "    \"brother\" : 3,\n",
    "    \"sister\" : 4,\n",
    "    \"uncle\" : 5,\n",
    "    \"anty\" : 6,\n",
    "    \"grandfather\" : 7,\n",
    "    \"grandmother\" : 8,\n",
    "    \"father in law\" : 9,\n",
    "    \"mother in law \" : 10\n",
    "\n",
    "}\n",
    "for k,v in contact_number.items():\n",
    "    print(k,v)\n"
   ]
  },
  {
   "cell_type": "markdown",
   "metadata": {},
   "source": [
    "## create a dictionary that contains prices of common items and then write the code to display the sum and avg price of all items."
   ]
  },
  {
   "cell_type": "code",
   "execution_count": 15,
   "metadata": {},
   "outputs": [
    {
     "data": {
      "text/plain": [
       "{'mango': 50, 'apple': 70, 'nuts': 90, 'groundnuts': 50}"
      ]
     },
     "execution_count": 15,
     "metadata": {},
     "output_type": "execute_result"
    }
   ],
   "source": [
    "total = 0\n",
    "common_items ={\n",
    "    \"mango\" :50,\n",
    "    \"apple\" : 70,\n",
    "    \"nuts\" : 90,\n",
    "    \"groundnuts\" : 50\n",
    "}\n",
    "common_items\n"
   ]
  },
  {
   "cell_type": "code",
   "execution_count": 20,
   "metadata": {},
   "outputs": [
    {
     "name": "stdout",
     "output_type": "stream",
     "text": [
      "220\n",
      "22.0\n"
     ]
    }
   ],
   "source": [
    "for i in contact_number.values():\n",
    "  total += i\n",
    "  avg = total / len(contact_number)\n",
    "print(total)\n",
    "print(avg)"
   ]
  },
  {
   "cell_type": "markdown",
   "metadata": {},
   "source": [
    "## create a dictionary to add 5 employees with details like name, designation, salary , joining data, dept , etc"
   ]
  },
  {
   "cell_type": "code",
   "execution_count": 23,
   "metadata": {},
   "outputs": [
    {
     "data": {
      "text/plain": [
       "{'employee1': {'name': 'ravi',\n",
       "  'designation': 'operator',\n",
       "  'salary': '15000',\n",
       "  'joining data': 9.077293151182318e-05},\n",
       " 'employee 2': {'name': 'rohan',\n",
       "  'designation': 'operator',\n",
       "  'salary': '15000',\n",
       "  'joining data': 9.086365907955114e-05}}"
      ]
     },
     "execution_count": 23,
     "metadata": {},
     "output_type": "execute_result"
    }
   ],
   "source": [
    "employees_data ={\n",
    "\n",
    "       \"employee1\" :\n",
    "       {\n",
    "           \"name\" : \"ravi\" ,\n",
    "    \"designation\" : \"operator\" ,\n",
    "    \"salary\" : \"15000\",\n",
    "    \"joining data\" : 2/11/2003\n",
    "    },\n",
    "     \"employee 2\":{\n",
    "        \"name\" : \"rohan\" ,\n",
    "        \"designation\" : \"operator\" ,\n",
    "        \"salary\" : \"15000\",\n",
    "       \"joining data\" : 2/11/2001\n",
    "            }\n",
    "     \n",
    "}\n",
    "employees_data"
   ]
  },
  {
   "cell_type": "code",
   "execution_count": null,
   "metadata": {},
   "outputs": [],
   "source": []
  }
 ],
 "metadata": {
  "interpreter": {
   "hash": "10b35615fda2620ac90103463a2ff4f7a4c393ab0c46b4cd693939ce545bd675"
  },
  "kernelspec": {
   "display_name": "Python 3.9.7 64-bit",
   "language": "python",
   "name": "python3"
  },
  "language_info": {
   "codemirror_mode": {
    "name": "ipython",
    "version": 3
   },
   "file_extension": ".py",
   "mimetype": "text/x-python",
   "name": "python",
   "nbconvert_exporter": "python",
   "pygments_lexer": "ipython3",
   "version": "3.9.7"
  },
  "orig_nbformat": 4
 },
 "nbformat": 4,
 "nbformat_minor": 2
}
