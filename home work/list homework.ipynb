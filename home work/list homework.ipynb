{
 "cells": [
  {
   "cell_type": "markdown",
   "metadata": {},
   "source": [
    "### TASKS\n",
    "### 1. Take user input and store the values list, till the user enters EOF"
   ]
  },
  {
   "cell_type": "code",
   "execution_count": 9,
   "metadata": {},
   "outputs": [],
   "source": [
    "x = []\n",
    "while True:\n",
    "  data = input(\"enter anything: \")\n",
    "  if data.casefold() == \"eof'\":\n",
    "    break\n",
    "  else:\n",
    "    x.append(data)\n",
    "\n"
   ]
  },
  {
   "cell_type": "markdown",
   "metadata": {},
   "source": [
    "3### 2. Create a list from 1 to 100 and then display the sum of all the even values in it"
   ]
  },
  {
   "cell_type": "code",
   "execution_count": null,
   "metadata": {},
   "outputs": [
    {
     "data": {
      "text/plain": [
       "2550"
      ]
     },
     "execution_count": 8,
     "metadata": {},
     "output_type": "execute_result"
    }
   ],
   "source": [
    "x = list(range(1,101))\n",
    "sum(x[1::2])"
   ]
  },
  {
   "cell_type": "markdown",
   "metadata": {},
   "source": [
    "#### 3. Add 5 to each elements of given list [12,45,67,7,21]"
   ]
  },
  {
   "cell_type": "code",
   "execution_count": null,
   "metadata": {},
   "outputs": [
    {
     "name": "stdout",
     "output_type": "stream",
     "text": [
      "[12, 45, 67, 7, 21]\n",
      "[17, 50, 72, 12, 26]\n"
     ]
    }
   ],
   "source": [
    "lists = [12,45,67,7,21]\n",
    "l2 =[]\n",
    "for i in lists:\n",
    "        l2.append(i + 5)\n",
    "print(lists)\n",
    "print(l2)"
   ]
  },
  {
   "cell_type": "markdown",
   "metadata": {},
   "source": [
    "### 4. remove all the duolicate values from the given list \n",
    "[1,2,2,2,1,1,2,2,2,1,2,2,2,2,2,2,1,1,2,3]"
   ]
  },
  {
   "cell_type": "code",
   "execution_count": null,
   "metadata": {},
   "outputs": [
    {
     "name": "stdout",
     "output_type": "stream",
     "text": [
      "[1, 2, 2, 2, 1, 1, 2, 2, 2, 1, 2, 2, 2, 2, 2, 2, 1, 1, 2, 3]\n",
      "[]\n"
     ]
    }
   ],
   "source": [
    "l1 = [1,2,2,2,1,1,2,2,2,1,2,2,2,2,2,2,1,1,2,3]\n",
    "y = []\n",
    "for i in l1:\n",
    "    if i in y:\n",
    "        y.append(i)\n",
    "print(l1)\n",
    "print(y)        \n"
   ]
  },
  {
   "cell_type": "code",
   "execution_count": null,
   "metadata": {},
   "outputs": [],
   "source": []
  }
 ],
 "metadata": {
  "interpreter": {
   "hash": "10b35615fda2620ac90103463a2ff4f7a4c393ab0c46b4cd693939ce545bd675"
  },
  "kernelspec": {
   "display_name": "Python 3.9.7 64-bit",
   "language": "python",
   "name": "python3"
  },
  "language_info": {
   "codemirror_mode": {
    "name": "ipython",
    "version": 3
   },
   "file_extension": ".py",
   "mimetype": "text/x-python",
   "name": "python",
   "nbconvert_exporter": "python",
   "pygments_lexer": "ipython3",
   "version": "3.9.7"
  },
  "orig_nbformat": 4
 },
 "nbformat": 4,
 "nbformat_minor": 2
}
